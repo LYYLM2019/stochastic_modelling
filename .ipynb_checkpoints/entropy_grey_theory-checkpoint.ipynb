{
 "cells": [
  {
   "cell_type": "markdown",
   "metadata": {},
   "source": [
    "## Grey System Theory"
   ]
  },
  {
   "cell_type": "markdown",
   "metadata": {},
   "source": [
    "### Intro"
   ]
  },
  {
   "cell_type": "markdown",
   "metadata": {},
   "source": [
    "#### Luterature"
   ]
  },
  {
   "cell_type": "markdown",
   "metadata": {},
   "source": [
    "- [Journal of Grey System](https://www.researchgate.net/journal/0957-3720_Journal_of_Grey_System)\n",
    "- [Grey Data Analysis  (Book)](https://link.springer.com/book/10.1007%2F978-981-10-1841-1)\n",
    "\n",
    "R packages\n",
    "- [greybox with example](https://cran.r-project.org/web/packages/greybox/vignettes/greybox.html), [author's blog](https://forecasting.svetunkov.ru/en/)\n",
    "    - [Ivan Svetunkov (LU)](https://www.lancaster.ac.uk/lums/people/ivan-svetunkov#projects)\n",
    "    - When, by whom and in what paper was the Single Source of Error state space model first proposed? [Snyder, R. D. (1985)  Recursive estimation of dynamic linear statistical models.](https://robjhyndman.com/papers/SSOE.pdf)\n",
    "    - [other packages by LU](https://www.lancaster.ac.uk/lums/news/r-packages-for-business-forecasting)\n",
    "- [gRey](https://uploads.cosx.org/2009/12/An-IntRoduction-to-gRey-methods-using-R.pdf)"
   ]
  },
  {
   "cell_type": "markdown",
   "metadata": {},
   "source": [
    "### Overviews \n",
    "\n",
    "- [New progress of Grey System Theory in the new millennium](https://www.emerald.com/insight/content/doi/10.1108/GS-09-2015-0054/full/html)\n"
   ]
  },
  {
   "cell_type": "markdown",
   "metadata": {},
   "source": [
    "#### Basics"
   ]
  },
  {
   "cell_type": "markdown",
   "metadata": {},
   "source": [
    "grey == poor, incomplete, uncertain\n",
    "\n",
    "\n",
    "Most of scientific research is carried out using uncertain, incomplete and scarce data. The\n",
    "grey systems theory gives the\n",
    "basis for considering complex\n",
    "technical, economic and social systems whose\n",
    "structure and functioning is not fully known. \n",
    "\n",
    "\n",
    "- grey realtion space\n",
    "- grey generating space\n",
    "- grey forecasting (grey modelling)\n",
    "- grey decision making\n",
    "- grey control\n",
    "- grey mathematics\n",
    "- grey theory\n",
    "\n",
    "In general - the analysis of system charachteristics is based on the statistical model which finds the statistical properties between data in a large sample set\n",
    "\n",
    "A large sample set is not that easy to be available, many systems are said in a status of poor information \n",
    "\n"
   ]
  },
  {
   "cell_type": "markdown",
   "metadata": {},
   "source": [
    "It was created in 1982 by the Chinese scientist\n",
    "Professor Deng Jilt-long. However, this theory\n",
    "remained obscure for a long time; its first systematic presentation in the English language\n",
    "was published in 1989 and the first English language textbook available to a larger number of\n",
    "readers appeared only in 2005"
   ]
  },
  {
   "cell_type": "markdown",
   "metadata": {
    "heading_collapsed": true
   },
   "source": [
    "#### [GM(1,1) Model (Grey Forecast)](https://uploads.cosx.org/2009/12/An-IntRoduction-to-gRey-methods-using-R.pdf)\n",
    "\n",
    "Grey forecast can be used to predict behavior of non-linear time series. This is a non-statistical forecasting method that is particularly effective when the number of observations is insufficient.\n",
    "\n",
    "Define the observed time series as $$x^{(0)}=(x^{(0)}(1), x^{(0)}(2), ..., x^{(0)}(n)),$$ where $n$ is the number of observations\n",
    "\n",
    "Define the series $x^{(1)}$ in the following way: $$x^{(1)}=(x^{(1)}(1), x^{(1)}(2), ..., x^{(1)}(n))$$ \n",
    "\n",
    "Where:\n",
    "$$x^{(1)}(1) = x^{(0)}(1)$$\n",
    "$$x^{(1)}(k) = \\sum^k_{m=1}x^{(0)}(m), k=2,3,...,n$$\n",
    "\n",
    "\n",
    "The GM(1,1) model is defined by a first order differential equation:\n",
    "\n",
    "$$\\dfrac{dx^{(1)}(k)}{dk} + ax^{(1)}(k)=b$$\n",
    "\n",
    "The differential equations of the GM(1, 1) model have time-varying coefficients.\n",
    "\n",
    "The solution can be obtained using the least-squares method:\n",
    "\n",
    "$$[\\hat{a},\\hat{b}]^T=(B^TB)^{-1}B^TX_n$$\n",
    "\n",
    "where:\n",
    "\n",
    "$$B=\\begin{bmatrix} -0.5(x^{(1)}(1)+x^{(1)}(2)) &        1 \\\\ -0.5(x^{(1)}(2)+x^{(1)}(3))   &   1  \\\\ \\dots &  \\dots \\\\ -0.5(x^{(1)}(n-1)+x^{(1)}(n)) & 1   \\end{bmatrix}$$\n",
    "\n",
    "$$X_n=[x^{(0)}(2), \\dots, x^{(0)}(n)]$$\n",
    "\n",
    "Discrete solution of differential equation:\n",
    "\n",
    "$$\\hat{x}^{(1)}(k) = (x^{(0)}(1) - \\frac{\\hat{b}}{\\hat{a}})*e^{-\\hat{a}(k-1)} + \\frac{\\hat{b}}{\\hat{a}}$$\n",
    "\n",
    "Then the predicted series is calculated following the formula:\n",
    "\n",
    "$$X_{forecast}(1) = x^{(0)}(1), X_{forecast}(k) = \\hat{x}^{(1)}(k) - \\hat{x}^{(1)}(k-1), $$   \n",
    "\n",
    " where $k = 2,3,…,n$\n",
    "\n",
    "\n",
    "$$x^{(0)}_{forecast}(k+H) = (x^{(0)}(1) - \\frac{\\hat{b}}{\\hat{a}})*e^{-\\hat{a}(k+H-1)}(1-e^\\hat{a})$$\n",
    "\n",
    "Accuracy can be checked by residual test:\n",
    "\n",
    "$$\\Delta^{(0)}(i)=|x^{(0)}(i)- \\hat{x}^{(0)}(i)|$$\n",
    "$$\\Phi(i) = \\dfrac{\\Delta^{(0)}(i)}{X^{(0)}(i)}*100\\%$$\n",
    "\n",
    "Or by testing degree of Grey incidence:\n",
    "\n",
    "$$\\gamma(\\hat{x}^{(0)}, x^{(0)}) = \\frac{1}{n} \\sum^n_{i=1} \\gamma(\\hat{x}^{(0)}(i), x^{(0)}(i))$$\n",
    "\n",
    "GM(1,1) is qualified if $\\gamma > 0.6$, when $\\rho=0.5$\n",
    "\n",
    "Or by C and P criteria"
   ]
  },
  {
   "cell_type": "markdown",
   "metadata": {},
   "source": [
    "### Grey for Short TS"
   ]
  },
  {
   "cell_type": "markdown",
   "metadata": {},
   "source": [
    "### Grey for Mixed Frequencies"
   ]
  },
  {
   "cell_type": "markdown",
   "metadata": {},
   "source": [
    "- [The GM (1, N) Model for Mixed-frequency Data and Its Application in Pollutant Discharge Prediction.](https://web.a.ebscohost.com/abstract?direct=true&profile=ehost&scope=site&authtype=crawler&jrnl=23969040&AN=129587910&h=A2blY%2fh%2buszP5xFCnYM3f3tmGVfbe1Yl1X1VpFEi46Il1EoCkvkItaWEEL09m1DBFgEa6qZZyxGhD2xo2E6mVg%3d%3d&crl=c&resultNs=AdminWebAuth&resultLocal=ErrCrlNotAuth&crlhashurl=login.aspx%3fdirect%3dtrue%26profile%3dehost%26scope%3dsite%26authtype%3dcrawler%26jrnl%3d23969040%26AN%3d129587910)"
   ]
  },
  {
   "cell_type": "markdown",
   "metadata": {},
   "source": [
    "#### Other approaches\n",
    "\n",
    "MIDAS\n",
    "\n",
    "- [MIDAS Regressions: Further Results and New Directions](https://rady.ucsd.edu/faculty/directory/valkanov/pub/docs/midas-regressions.pdf)\n",
    "- [Forecasting with Mixed-Frequency Data](https://www.oxfordhandbooks.com/view/10.1093/oxfordhb/9780195398649.001.0001/oxfordhb-9780195398649-e-9)\n",
    "\n",
    "TVP-SV\n",
    "\n",
    "- [Combining time-variation and mixed-frequencies: an analysis of government spending multipliers in Italy](https://www.ecb.europa.eu/pub/pdf/scpwps/ecbwp1856.en.pdf)\n",
    "\n",
    "SS\n",
    "\n",
    "- [Modeling and forecastingtime series sampledat different frequencies](https://ec.europa.eu/eurostat/documents/3888793/5838289/KS-DT-05-030-EN.PDF/2ae3ab1a-6f51-4b52-af6b-570408116c67)"
   ]
  },
  {
   "cell_type": "markdown",
   "metadata": {},
   "source": [
    "### GM-GARCH"
   ]
  },
  {
   "cell_type": "markdown",
   "metadata": {},
   "source": [
    "- [Forecasting the one-period-ahead volatility of the international stock indices: GARCH model vs. GM(1,1)-GARCH model ](https://www.researchgate.net/profile/Jui_Cheng_Hung/publication/228998554_Forecasting_the_one-period-ahead_volatility_of_the_international_stock_indices_GARCH_model_vs_GM_1_1-GARCH_model/links/0a85e5327f3214d7d8000000.pdf?origin=publication_detail)"
   ]
  },
  {
   "cell_type": "markdown",
   "metadata": {},
   "source": [
    "### Grey CD\n",
    "\n"
   ]
  },
  {
   "cell_type": "markdown",
   "metadata": {},
   "source": [
    "- [PREDICTION OF GROSS DOMESTIC PRODUCT (GDP) BY USING GREY COBB-DOUGLAS PRODUCTION FUNCTION](https://dergipark.org.tr/en/download/article-file/532535)"
   ]
  },
  {
   "cell_type": "code",
   "execution_count": null,
   "metadata": {},
   "outputs": [],
   "source": []
  }
 ],
 "metadata": {
  "hide_input": false,
  "kernelspec": {
   "display_name": "Python 3",
   "language": "python",
   "name": "python3"
  },
  "language_info": {
   "codemirror_mode": {
    "name": "ipython",
    "version": 3
   },
   "file_extension": ".py",
   "mimetype": "text/x-python",
   "name": "python",
   "nbconvert_exporter": "python",
   "pygments_lexer": "ipython3",
   "version": "3.7.3"
  },
  "latex_envs": {
   "LaTeX_envs_menu_present": true,
   "autoclose": true,
   "autocomplete": true,
   "bibliofile": "biblio.bib",
   "cite_by": "apalike",
   "current_citInitial": 1,
   "eqLabelWithNumbers": true,
   "eqNumInitial": 1,
   "hotkeys": {
    "equation": "Ctrl-E",
    "itemize": "Ctrl-I"
   },
   "labels_anchors": false,
   "latex_user_defs": false,
   "report_style_numbering": false,
   "user_envs_cfg": false
  },
  "toc": {
   "base_numbering": 1,
   "nav_menu": {},
   "number_sections": true,
   "sideBar": true,
   "skip_h1_title": false,
   "title_cell": "Table of Contents",
   "title_sidebar": "Contents",
   "toc_cell": false,
   "toc_position": {},
   "toc_section_display": true,
   "toc_window_display": false
  },
  "varInspector": {
   "cols": {
    "lenName": 16,
    "lenType": 16,
    "lenVar": 40
   },
   "kernels_config": {
    "python": {
     "delete_cmd_postfix": "",
     "delete_cmd_prefix": "del ",
     "library": "var_list.py",
     "varRefreshCmd": "print(var_dic_list())"
    },
    "r": {
     "delete_cmd_postfix": ") ",
     "delete_cmd_prefix": "rm(",
     "library": "var_list.r",
     "varRefreshCmd": "cat(var_dic_list()) "
    }
   },
   "types_to_exclude": [
    "module",
    "function",
    "builtin_function_or_method",
    "instance",
    "_Feature"
   ],
   "window_display": false
  }
 },
 "nbformat": 4,
 "nbformat_minor": 2
}
