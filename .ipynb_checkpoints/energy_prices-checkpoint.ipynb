{
 "cells": [
  {
   "cell_type": "markdown",
   "metadata": {},
   "source": [
    "### Data\n",
    "\n",
    "- [РСВ - по часам](http://www.atsenergo.ru/results/rsv/index)\n",
    "    - скачано c 01-08-2013 по 23-09-2019\n",
    "    \n",
    "- [РСВ - посуточно](http://www.atsenergo.ru/results/rsv/statistics?period=1)\n",
    "\n",
    "\n",
    "- [СО ЕЭС](http://www.so-ups.ru/index.php?id=ees_gen_consump_plan&no_cache=1)"
   ]
  },
  {
   "cell_type": "markdown",
   "metadata": {},
   "source": [
    "Fluctuations of prices in commodity markets are mainly caused by supply and demand imbalances which originate from the business cycle (energy products, metals, agricultural commodities), political events (energy products) or unexpected weather patterns (agricultural commodities).\n"
   ]
  },
  {
   "cell_type": "markdown",
   "metadata": {},
   "source": [
    "#### check data\n",
    "\n",
    "- \"Бурачки\" очереди\n",
    "- потребление электричества\n",
    "- освещенность\n",
    "- индексы промышленности"
   ]
  },
  {
   "cell_type": "markdown",
   "metadata": {},
   "source": [
    "#### Parsing SPIMEX\n",
    "\n",
    "- https get post python (network: get and post requests)\n",
    "\n",
    "If the HTML table is driven by Ajax, you can simple download data from the API. You can insepect the HTML page by chrome and then find the API.\n",
    "\n",
    "If the HTML table page is rendered from server side,maybe you should write a simple spider to analyze the table patterns then you can get your data.\n",
    "\n",
    "https://stackoverflow.com/questions/9969997/how-to-know-if-site-is-being-accessed-with-ajax-request/9970022\n",
    "\n",
    "https://stackoverflow.com/questions/51610264/scrape-dynamic-data-in-a-html-table-using-python3-6\n",
    "\n",
    "https://www.quora.com/How-can-we-identify-that-the-content-is-hidden-under-Ajax-or-Javascript-in-a-website\n",
    "\n",
    "- [Web Scraping in Python with Beautifulsoup](http://scrapingauthority.com/2016/08/25/web-scraping-beautifulsoup/)\n",
    "- [Selenium](https://www.seleniumhq.org/)\n",
    "    - https://stackoverflow.com/questions/5913280/beautifulsoup-and-ajax-table-problem\n",
    "    - [Selenium Webdriver using Python: Tutorial with Example ](https://www.guru99.com/selenium-python.html)\n",
    "- [How To Scrape Web Pages with Beautiful Soup and Python 3](https://www.digitalocean.com/community/tutorials/how-to-scrape-web-pages-with-beautiful-soup-and-python-3)\n",
    "- [Tutorial: Introduction to Using APIs in Python](https://www.dataquest.io/blog/python-api-tutorial/)"
   ]
  },
  {
   "cell_type": "markdown",
   "metadata": {},
   "source": [
    "### To read:\n",
    "\n",
    "- !!!!! [Estimating value at risk and conditional value at risk for count variables](https://onlinelibrary.wiley.com/doi/abs/10.1002/qre.1238)\n",
    "    - CVaR for poisson and binomial \n",
    "    - properties of risk under poisson and binomial\n",
    "    - empirical analysis\n",
    "\n",
    "- ! [Fundamental Insights in\n",
    "Power Futures Prices  (Prof.dr. H.G. Schmidt)](https://pdfs.semanticscholar.org/e6bf/7121a32e31ff93e455976c598cf2771b480a.pdf)\n",
    "    "
   ]
  },
  {
   "cell_type": "markdown",
   "metadata": {},
   "source": [
    "### Electricity Risk Measuring"
   ]
  },
  {
   "cell_type": "markdown",
   "metadata": {},
   "source": [
    "#### [VaR](https://activeviam.com/blog/cvar-value-at-risk-an-introduction/)\n",
    "\n",
    "Value at Risk (VaR) is a general tool for assessing market risk; it measures the worst expected loss over a given horizon under normal market conditions at a given level of confidence. \n",
    "\n",
    "- [MARKET RISK IN COMMODITY MARKETS: A VaR APPROACH](http://www.timberlake-consultancy.com/slaurent/pdf/dp2003-28.pdf)\n",
    " \n",
    "- [Slides: Value at Risk](https://www.empiwifo.uni-freiburg.de/lehre-teaching-1/winter-term-10-11/materialien-portfolio-analysis/valueatrisk.pdf)\n",
    "\n",
    "- [Short: Market Risk: Explanation Of VaR Calculations](https://medium.com/fintechexplained/market-risk-explanation-of-var-calculations-e31734f26d93)\n",
    "\n",
    "- [Value at Risk (VaR)and its calculations: an overview](http://web.mst.edu/~huwen/teaching_VaR_Weiqian_Li.pdf)"
   ]
  },
  {
   "cell_type": "markdown",
   "metadata": {},
   "source": [
    "##### CVaR\n",
    "\n",
    "- [VaR and CVaR](http://www.karlin.mff.cuni.cz/~rusy/NMEK613/Seminar/1415z/1415z_Bejda.pdf)\n",
    "\n",
    "CVaR value at risk is the most common VaR model used. To properly understand where your risk resides, you need to know what CVaR model, or algorithm, would serve you best in digging deeper into the VaR. \n",
    "\n",
    "CVaR is the basic risk assessment algorithm used to reduce the probability of incurring large losses, and it focuses on the less profitable outcomes. To reach the CVaR rate, the weighted average between the value at risk and losses exceeding that value at risk are calculated."
   ]
  },
  {
   "cell_type": "markdown",
   "metadata": {},
   "source": [
    "##### TVaR\n",
    "\n",
    "TVaR is similar to conditional VaR, the difference being that the underlying distribution of the value at risk. TVaR will assess the severity of losses, and not only the chance of losses. This measure is applied for assessing the tail of the distribution."
   ]
  },
  {
   "cell_type": "markdown",
   "metadata": {},
   "source": [
    "##### Other VaRs\n",
    "\n",
    "- HVaR: Historical VaR is used to examine past portfolio performances, or actual historical returns, arranging them from worst to best scenarios, and then calculating the portfolio’s value at risk following the assumptions that historical risk will repeat itself.\n",
    "\n",
    "- IVaR: Incremental VaR is used to measure the change in portfolio value at risk that is implied by a change in a position (i.e. shares added or diversified). This type of implementation requires reassessing the entire portfolio value at risk before and after a given change is made, and the difference provides us with the incremental VaR.\n",
    "\n",
    "- MVaR: Marginal VaR is used to measure the change that is made in a portfolio’s value at risk when an additional dollar is added to the portfolio. The marginal VaR measured for each change provides us with the amount of risk added to the entire portfolio by the given change.\n",
    "\n",
    "- Component VaR is the contribution of a specific position to the entire portfolio’s value at risk. If this position were removed, then the portfolio value at risk would drop by the component VaR. Thus, portfolio VaR is the sum of all component VaRs. Component VaR actually considers marginal VaR and incremental VaR in its calculation.\n",
    "\n",
    "- Stress VaR is a forward-looking algorithm that aims to identify extreme events that could result in catastrophic losses in a portfolio. A stress VaR algorithm is based on real adverse and unexpected historical scenarios to recreate and analyze changes in position, up to the worst-case point."
   ]
  },
  {
   "cell_type": "markdown",
   "metadata": {},
   "source": [
    "#### Modeling Risk"
   ]
  },
  {
   "cell_type": "markdown",
   "metadata": {},
   "source": [
    "- !!!!! [Estimating value at risk and conditional value at risk for count variables](https://onlinelibrary.wiley.com/doi/abs/10.1002/qre.1238)\n",
    "    - CVaR for poisson and binomial \n",
    "    - properties of risk under poisson and binomial\n",
    "    - empirical analysis\n",
    "\n",
    "\n",
    "- BOOK [EnergyDerivatives:PricingandRiskManagement](https://eu.spb.ru/images/stories/library/files/EnergyDerivatives.pdf)\n",
    "\n",
    "\n",
    "- GREY! [Estimating  Value-at-Risk  in  Electricity  Market  Based  on  Grey  Extreme  Value Theory ](https://pdfs.semanticscholar.org/f713/1370453cd9f82ca376692e94f5b17f985310.pdf)\n",
    "\n",
    "    \n",
    "- [Properties of a Risk Measure Derived from Ruin Theory](https://sci-hub.se/https://link.springer.com/article/10.1057/grir.2010.10)\n",
    "    - Residual life order\n",
    "    - var type risk measure\n",
    "    - application to portfolio theory\n",
    "\n",
    "- [Energy risk management and value at risk modeling](https://www.researchgate.net/publication/222400423_Energy_risk_management_and_value_at_risk_modeling)\n",
    "    - Short, GARCH, VaR estimation example\n",
    "\n",
    "- [Managing electricity market price risk](http://lib.tkk.fi/Diss/2004/isbn9512274027/article4.pdf)\n",
    "    \n",
    "- [Managing Market Risk in Energy](https://pdfs.semanticscholar.org/63c1/409bb7fbba13885ed2311f91af1ffb95ec5d.pdf)\n",
    "    \n",
    "- [Estimating the Commodity Market Price ofRisk for Energy Prices](http://citeseerx.ist.psu.edu/viewdoc/download?doi=10.1.1.472.7327&rep=rep1&type=pdf)\n",
    "\n",
    "- [A STRUCTURAL RISK-NEUTRAL MODEL OF ELECTRICITY PRICES](http://www.cmap.polytechnique.fr/~touzi/AidCampiNguyenTouzi-printed-IJTAF-Nov09.pdf)\n",
    "\n",
    "- [Volatility and Risk In Electricity Price Forecasting](http://www.energyonline.com/Reports/Files/LCG_Volatility.pdf)\n",
    "\n",
    "- [A MODEL FOR HEDGING LOAD AND PRICE RISK IN THE TEXAS ELECTRICITY MARKET](https://sircar.princeton.edu/Public/ARTICLES/CPS_May2013.pdf)\n",
    "\n",
    "- [Modelling risk for electric power markets](http://www.scielo.org.co/scielo.php?script=sci_arttext&pid=S0121-50512012000200005)\n"
   ]
  },
  {
   "cell_type": "markdown",
   "metadata": {},
   "source": [
    "### Про российский рынок\n",
    "\n",
    "- [Управление рисками и безопасностью](http://www.isa.ru/proceedings/images/documents/2011-61-1/orlovskii.pdf)\n",
    "\n",
    "- [Оптовый рынок электроэнергии и мощности России](https://ru.wikipedia.org/wiki/%D0%9E%D0%BF%D1%82%D0%BE%D0%B2%D1%8B%D0%B9_%D1%80%D1%8B%D0%BD%D0%BE%D0%BA_%D1%8D%D0%BB%D0%B5%D0%BA%D1%82%D1%80%D0%BE%D1%8D%D0%BD%D0%B5%D1%80%D0%B3%D0%B8%D0%B8_%D0%B8_%D0%BC%D0%BE%D1%89%D0%BD%D0%BE%D1%81%D1%82%D0%B8_%D0%A0%D0%BE%D1%81%D1%81%D0%B8%D0%B8)\n",
    "    - [Системный оператор Единой энергетической системы](https://ru.wikipedia.org/wiki/%D0%A1%D0%B8%D1%81%D1%82%D0%B5%D0%BC%D0%BD%D1%8B%D0%B9_%D0%BE%D0%BF%D0%B5%D1%80%D0%B0%D1%82%D0%BE%D1%80_%D0%95%D0%B4%D0%B8%D0%BD%D0%BE%D0%B9_%D1%8D%D0%BD%D0%B5%D1%80%D0%B3%D0%B5%D1%82%D0%B8%D1%87%D0%B5%D1%81%D0%BA%D0%BE%D0%B9_%D1%81%D0%B8%D1%81%D1%82%D0%B5%D0%BC%D1%8B)\n",
    "\n",
    "- [Как устроен рынок электроэнергии в России](https://bcs-express.ru/novosti-i-analitika/kak-ustroen-rynok-elektroenergii-v-rossii)\n",
    "    - Тикеры генераторов, сбытовых компаний, сетевых компаний\n",
    "    \n",
    "- ДПМ:\n",
    "    - [Реализация проектов ДПМ](https://minenergo.gov.ru/node/561)\n",
    "    - Механизм строительства и модернизации электрогенерирующих мощностей по договорам о поставке мощности (ДПМ) стал частью реформы РАО ЕЭС в конце 2000-х годов. Он использовался для привлечения в отрасль негосударственных инвестиций на рыночных, взаимовыгодных для банков и генерирующих компаний условиях.\n",
    "\n",
    "\n",
    "- [Организация функционирования конкурентного рынка электрической энергии и мощности в современных условиях](https://cyberleninka.ru/article/n/organizatsiya-funktsionirovaniya-konkurentnogo-rynka-elektricheskoy-energii-i-moschnosti-v-sovremennyh-usloviyah)\n",
    "- [Использование инструментов финансового рынка для управления рисками в электроэнергетике](https://cyberleninka.ru/article/v/ispolzovanie-instrumentov-finansovogo-rynka-dlya-upravleniya-riskami-v-elektroenergetike)\n",
    "- [Рынок производных финансовых инструментов на жидкое топливо](https://cyberleninka.ru/article/v/rynok-proizvodnyh-finansovyh-instrumentov-na-zhidkoe-toplivo)\n",
    "- [Риски энергетических  компаний](https://cyberleninka.ru/article/v/riski-energeticheskih-kompaniy)\n",
    "\n",
    "- [Classification of electricity market models worldwide](https://ieeexplore.ieee.org/abstract/document/1532720)\n",
    "\n",
    "- [Do energy prices converge across Russian regions?](https://www.sciencedirect.com/science/article/pii/S0264999312001447)\n",
    "\n",
    "PWC:\n",
    "\n",
    "- 2015: [Возрождая российскуюэлектроэнергетику](https://www.pwc.ru/ru/power-and-utilities/publications/assets/reviving-the-russian-power-industry_rus.pdf)\n",
    "- 2017: [Преобразования в сфере электроэнергетики](https://www.pwc.ru/ru/publications/reimagining-the-electric-utility-final-june-2017/reimagining-the-electric-utility-final-june-2017-ru.pdf)"
   ]
  },
  {
   "cell_type": "markdown",
   "metadata": {},
   "source": [
    "### Finance"
   ]
  },
  {
   "cell_type": "markdown",
   "metadata": {},
   "source": [
    "#### Electricity Futures Pricing\n",
    "\n",
    "Фьючерсы на электроэнергию позволяют хеджировать рыночный риск генкомпании"
   ]
  },
  {
   "cell_type": "markdown",
   "metadata": {},
   "source": [
    "- [CHAPTER 18: ELECTRICITY FUTURES](https://boa.unimib.it/retrieve/handle/10281/98952/145272/b1892-ch18.pdf)\n",
    "    - Are futures prices unbiased estimates of spot electricity prices?"
   ]
  },
  {
   "cell_type": "markdown",
   "metadata": {},
   "source": [
    "![Screenshot1.png](Screenshot1.png)"
   ]
  },
  {
   "cell_type": "markdown",
   "metadata": {},
   "source": [
    "- [On modelling the electricity futures curve](https://essay.utwente.nl/60867/1/BSc_Rick_ter_Haar.pdf)\n",
    "\n",
    "- [PRICING FUTURES AND OPTIONS IN ELECTRICITY MARKETS](https://core.ac.uk/download/pdf/30831489.pdf)"
   ]
  },
  {
   "cell_type": "markdown",
   "metadata": {},
   "source": [
    "### Stochastic analysis"
   ]
  },
  {
   "cell_type": "markdown",
   "metadata": {},
   "source": [
    "A stochastic process $X(t)$ is said to be a diffusion equation (or difference equation) if its local dynamics can be approximated by a stochastic difference equation of the following type:\n",
    "$$X(t+\\Delta t ) - X(t) = \\mu(t,X(t))\\Delta t + \\sigma(t,X(t))Z(t)$$\n",
    "With  $Z(t)$ a  normally  distributed  disturbance  (noise)  term  which  is  adapted  to  the  filtration generated  by  the  process  up  until  time $t$,  while  $\\mu$ (drift  term)  and $\\sigma$  (diffusion  term)  given deterministic functions. We say that a process is adapted to the filtration $F_t$ if its future value is independent of the history of the process up until time $t$. To model the normal disturbance term $Z(t)$ we need to specify a Wiener process. "
   ]
  },
  {
   "cell_type": "markdown",
   "metadata": {},
   "source": [
    "#### [Lévy processes and extreme value theory](https://extreme-events-finance.net/wiley-handbook/contributions/lecourtois-walter-levy-processes-extreme-value-theory/)\n",
    "\n",
    "\n",
    "\n",
    "The classic theory of extreme values distinguishes between small and large variations in stock exchange quantities. One of the difficulties often encountered in the practical application of this theory is the choice of a threshold beyond which a variation is considered large. One of the main goals of this chapter is to show how the Lévy process approach can be reconciled with that of extreme values. Another objective we have is to be able to bypass the dead-end of the mixture of diffusions and EVT approaches to tail modeling.\n",
    "\n",
    "This chapter starts by recalling the main definitions of the EVT framework, the approach related to the laws of maxima, before examining threshold exceedances. Then, we move to a presentation of Lévy processes. The third section is dedicated to the study of stable Lévy processes. In the fourth section, we examine two subclasses of semi heavy-tailed Lévy processes that are based on tempered stable and generalized hyperbolic distributions. The last section deals with the relationships between Lévy processes and extreme value distributions.\n"
   ]
  },
  {
   "cell_type": "markdown",
   "metadata": {},
   "source": [
    "#### Non-normal distribution\n",
    "\n",
    "- [ESTIMATING VALUE-AT-RISK BASED ON NON-NORMAL DISTRIBUTIONS](https://www.researchgate.net/publication/283243124_ESTIMATING_VALUE-AT-RISK_BASED_ON_NON-NORMAL_DISTRIBUTIONS)"
   ]
  },
  {
   "cell_type": "markdown",
   "metadata": {},
   "source": [
    "\n",
    "### Additional\n",
    "\n",
    "BS\n",
    "    - [Black-Scholes model](https://stanford.edu/~xing/Stat243/slides_04_bs_NoPDE.pdf)\n",
    "    \n"
   ]
  },
  {
   "cell_type": "markdown",
   "metadata": {},
   "source": [
    "SEM Macro Dependencies \n",
    "\n",
    "- [Income, trade openness and energy interactions: Evidence from simultaneous equation modeling](https://www.sciencedirect.com/science/article/abs/pii/S0360544218300136)\n",
    "\n",
    "- [Assessing links between energy consumption, freight transport,\n",
    "and economic growth: evidence from dynamic simultaneous\n",
    "equation models](https://link.springer.com/article/10.1007/s11356-018-1760-5)\n",
    "\n",
    "- [The causality link between energy electricity consumption, CO2 emissions, R&D stocks and economic growth in Mediterranean countries (MCs)](https://www.sciencedirect.com/science/article/abs/pii/S0360544217321795)\n",
    "\n",
    "- [The Relationship between Foreign Direct Investment, Electricity Consumption and Economic Growth in Vietnam](http://www.econjournals.com/index.php/ijeep/article/view/6192)\n",
    "\n",
    "- [The relationship among oil, natural gas and coal consumption and economic growth in BRICTS (Brazil, Russian, India, China, Turkey and South Africa) countries](https://www.sciencedirect.com/science/article/abs/pii/S0360544213010633)"
   ]
  },
  {
   "cell_type": "markdown",
   "metadata": {},
   "source": [
    "[(Stochastic) Unit Commitment Problem](https://en.wikipedia.org/wiki/Unit_commitment_problem_in_electrical_power_production)\n",
    "\n",
    "The unit commitment problem (UC) in electrical power production is a large family of mathematical optimization problems where the production of a set of electrical generators is coordinated in order to achieve some common target, usually either match the energy demand at minimum cost or maximize revenues from energy production. This is necessary because it is difficult to store electrical energy on a scale comparable with normal consumption; hence, each (substantial) variation in the consumption must be matched by a corresponding variation of the production.\n",
    "\n",
    "Coordinating generation units is a difficult task for a number of reasons:\n",
    "\n",
    "- the number of units can be large (hundreds or thousands);\n",
    "- there are several types of units, with significantly different energy production costs and constraints about how power can be produced;\n",
    "- generation is distributed across a vast geographical area (e.g., a country), and therefore the response of the electrical grid, itself a highly complex system, has to be taken into account: even if the production levels of all units are known, checking whether the load can be sustained and what the losses are requires highly complex power flow computations.\n",
    "\n",
    "Because the relevant details of the electrical system vary greatly worldwide, there are many variants of the UC problem, which are often very difficult to solve. This is also because, since some units require quite a long time (many hours) to start up or shut down, the decisions need be taken well in advance (usually, the day before), which implies that these problems have to be solved within tight time limits (several minutes to a few hours). \n",
    "\n",
    "UC is therefore one of the fundamental problems in power system management and simulation. It has been studied for many years, and still is one of the most significant energy optimization problems. Recent surveys on the subject count many hundreds of scientific articles devoted to the problem. Furthermore, several commercial products comprise specific modules for solving UC, or are even entirely devoted to its solution.\n",
    "\n",
    "\n",
    "__Uncertainty in unit commitment problems:__\n",
    "\n",
    "A troubling consequence of the fact that UC needs be solved well in advance to the actual operations is that the future state of the system is not known exactly, and therefore needs be estimated. \n",
    "\n",
    "This used to be a relatively minor problem when the uncertainty in the system was only due to variation of users' demand, which on aggregate can be forecasted quite effectively, and occurrence of lines or generators faults, which can be dealt with by well established rules (spinning reserve).\n",
    "\n",
    "However, in recent years the production from intermittent renewable production sources has significantly increased. This has, in turn, very significantly increased the impact of uncertainty in the system, so that ignoring it (as traditionally done by taking average point estimates) risks significant cost increases. This had made it necessary to resort to appropriate mathematical modeling techniques to properly take uncertainty into account, such as:\n",
    "\n",
    "- Robust optimization approaches;\n",
    "-  Scenario optimization approaches;\n",
    "-   Chance-constrained optimization approaches.\n",
    "\n",
    "The combination of the (already, many) traditional forms of UC problems with the several (old and) new forms of uncertainty gives rise to the even larger family of Uncertain Unit Commitment (UUC) problems, which are currently at the frontier of applied and methodological research"
   ]
  },
  {
   "cell_type": "markdown",
   "metadata": {},
   "source": [
    "-  [A Literature Review of Stochastic Programming and Unit Commitment](https://www.researchgate.net/profile/Wencong_Su/publication/275249888_A_Literature_Review_of_Stochastic_Programming_and_Unit_Commitment/links/557069f908aee1eea75870ed/A-Literature-Review-of-Stochastic-Programming-and-Unit-Commitment.pdf)\n",
    "\n",
    "- [Risk-Constrained Bidding Strategy With Stochastic Unit Commitment](https://ieeexplore.ieee.org/abstract/document/4077143)\n",
    "\n",
    "- [Stochastic Unit Commitment With Uncertain Demand Response](https://ieeexplore.ieee.org/abstract/document/6236283)\n",
    "\n",
    "With SOC:\n",
    "\n",
    "- [Stochastic unit commitment problem](https://onlinelibrary.wiley.com/doi/abs/10.1111/j.1475-39\n",
    "95.2004.00437.x)\n",
    "- [Incorporating Fuel Constraints and Electricity Spot Prices into the Stochastic Unit Commitment Problem](https://pubsonline.informs.org/doi/pdf/10.1287/opre.48.2.268.12379)\n",
    "- [Stochastic Optimization for Unit Commitment — A Review](https://ieeexplore.ieee.org/abstract/document/6912028)\n",
    "    - Benders decomposition (or Benders' decomposition) is a technique in mathematical programming that allows the solution of very large linear programming problems that have a special block structure. The strategy behind Benders decomposition can be summarized as divide-and-conquer. That is, in Benders decomposition, the variables of the original problem are divided into two subsets so that a first-stage master problem is solved over the first set of variables, and the values for the second set of variables are determined in a second-stage subproblem for a given first-stage solution. If the subproblem determines that the fixed first-stage decisions are in fact infeasible, then so-called Benders cuts are generated and added to the master problem, which is then re-solved until no cuts can be generated. Since Benders decomposition adds new constraints as it progresses towards a solution, the approach is called \"row generation\". In contrast, Dantzig–Wolfe decomposition uses \"column generation\". \n",
    "- [Two-stage stochastic unit commitment model including non-generation resources with conditional value-at-risk constraints](https://www.sciencedirect.com/science/article/abs/pii/S0378779614002648)\n"
   ]
  },
  {
   "cell_type": "code",
   "execution_count": null,
   "metadata": {},
   "outputs": [],
   "source": []
  }
 ],
 "metadata": {
  "hide_input": false,
  "kernelspec": {
   "display_name": "Python 3",
   "language": "python",
   "name": "python3"
  },
  "language_info": {
   "codemirror_mode": {
    "name": "ipython",
    "version": 3
   },
   "file_extension": ".py",
   "mimetype": "text/x-python",
   "name": "python",
   "nbconvert_exporter": "python",
   "pygments_lexer": "ipython3",
   "version": "3.7.3"
  },
  "latex_envs": {
   "LaTeX_envs_menu_present": true,
   "autoclose": true,
   "autocomplete": true,
   "bibliofile": "biblio.bib",
   "cite_by": "apalike",
   "current_citInitial": 1,
   "eqLabelWithNumbers": true,
   "eqNumInitial": 1,
   "hotkeys": {
    "equation": "Ctrl-E",
    "itemize": "Ctrl-I"
   },
   "labels_anchors": false,
   "latex_user_defs": false,
   "report_style_numbering": false,
   "user_envs_cfg": false
  },
  "toc": {
   "base_numbering": 1,
   "nav_menu": {},
   "number_sections": true,
   "sideBar": true,
   "skip_h1_title": false,
   "title_cell": "Table of Contents",
   "title_sidebar": "Contents",
   "toc_cell": false,
   "toc_position": {},
   "toc_section_display": true,
   "toc_window_display": true
  },
  "varInspector": {
   "cols": {
    "lenName": 16,
    "lenType": 16,
    "lenVar": 40
   },
   "kernels_config": {
    "python": {
     "delete_cmd_postfix": "",
     "delete_cmd_prefix": "del ",
     "library": "var_list.py",
     "varRefreshCmd": "print(var_dic_list())"
    },
    "r": {
     "delete_cmd_postfix": ") ",
     "delete_cmd_prefix": "rm(",
     "library": "var_list.r",
     "varRefreshCmd": "cat(var_dic_list()) "
    }
   },
   "types_to_exclude": [
    "module",
    "function",
    "builtin_function_or_method",
    "instance",
    "_Feature"
   ],
   "window_display": false
  }
 },
 "nbformat": 4,
 "nbformat_minor": 2
}
