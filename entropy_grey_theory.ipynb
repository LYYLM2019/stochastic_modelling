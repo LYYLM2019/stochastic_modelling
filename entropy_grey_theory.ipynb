{
 "cells": [
  {
   "cell_type": "markdown",
   "metadata": {},
   "source": [
    "## Grey System Theory"
   ]
  },
  {
   "cell_type": "markdown",
   "metadata": {},
   "source": [
    "grey == poor, incomplete, uncertain\n",
    "\n",
    "\n",
    "Most of scientific research is carried out using uncertain, incomplete and scarce data. The\n",
    "grey systems theory gives the\n",
    "basis for considering complex\n",
    "technical, economic and social systems whose\n",
    "structure and functioning is not fully known. \n",
    "\n",
    "\n",
    "- grey realtion space\n",
    "- grey generating space\n",
    "- grey forecasting (grey modelling)\n",
    "- grey decision making\n",
    "- grey control\n",
    "- grey mathematics\n",
    "- grey theory\n",
    "\n",
    "In general - the analysis of system charachteristics is based on the statistical model which finds the statistical properties between data in a large sample set\n",
    "\n",
    "A large sample set is not that easy to be available, many systems are said in a status of poor information \n",
    "\n"
   ]
  },
  {
   "cell_type": "markdown",
   "metadata": {},
   "source": [
    "It was created in 1982 by the Chinese scientist\n",
    "Professor Deng Jilt-long. However, this theory\n",
    "remained obscure for a long time; its first systematic presentation in the English language\n",
    "was published in 1989 and the first English language textbook available to a larger number of\n",
    "readers appeared only in 2005"
   ]
  },
  {
   "cell_type": "markdown",
   "metadata": {},
   "source": [
    "### "
   ]
  }
 ],
 "metadata": {
  "kernelspec": {
   "display_name": "Python 3",
   "language": "python",
   "name": "python3"
  },
  "language_info": {
   "codemirror_mode": {
    "name": "ipython",
    "version": 3
   },
   "file_extension": ".py",
   "mimetype": "text/x-python",
   "name": "python",
   "nbconvert_exporter": "python",
   "pygments_lexer": "ipython3",
   "version": "3.7.3"
  }
 },
 "nbformat": 4,
 "nbformat_minor": 2
}
