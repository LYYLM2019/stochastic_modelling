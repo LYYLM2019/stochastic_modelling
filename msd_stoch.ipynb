{
 "cells": [
  {
   "cell_type": "markdown",
   "metadata": {},
   "source": [
    "- [Importance of Stochastic Properties of Economic Variables for Macroeconomic Theories](https://www.sciencedirect.com/science/article/pii/S1877042813050659)"
   ]
  },
  {
   "cell_type": "markdown",
   "metadata": {},
   "source": [
    "- [BAYESIAN NON-PARAMETRIC MODELING USING LEVY PROCESS PRIORS WITH APPLICATIONS FOR FUNCTION ESTIMATION, TIME SERIES MODELING AND SPATIO-TEMPORAL MODELING](https://pdfs.semanticscholar.org/46bf/3a36ffcdce0e585f14f6634679a1182665b0.pdf)\n",
    "\n",
    "- [Levy process-driven mean-reverting electricity price model: the marginal distribution analysis](https://www.sciencedirect.com/science/article/pii/S016792360400123X)"
   ]
  },
  {
   "cell_type": "markdown",
   "metadata": {},
   "source": [
    "1) Статистика + эконометрика + микро. Стохастические свойства цен на ресурсы. Можно поработать над методом оценки сп и оценить на реальных данных по энергетике. \n",
    "\n",
    "[Levy process-driven mean-reverting electricity price model: the marginal distribution analysis](https://www.sciencedirect.com/science/article/pii/S016792360400123X)\n",
    "\n",
    "\n",
    "В то же время ситуация на рынке угля все еще\n",
    "остается неустойчивой, а краткосрочные цены показывают высокую волатильность.\n",
    "\n",
    "Коксующийся уголь также тор-\n",
    "говался в широком ценовом диапазоне — от\n",
    "150 до 210 долл./т, однажды достигнув уровня 285 долл./т из-за сбоя поставок, возникших в\n",
    "конце марта в результате урагана и наводнения\n",
    "на востоке Австралии.\n",
    "\n",
    "На фоне резких ценовых колебаний между\n",
    "японскими металлургическими и австралийскими угледобывающими компаниями возникли разногласия по поводу фиксированных\n",
    "квартальных цен, итогом которых стал отказ от\n",
    "традиционных переговоров и переход на новую\n",
    "систему ценообразования, основанную на сред-\n",
    "них значениях спотовых индексов за период со\n",
    "сдвигом на месяц ранее периода поставки.\n",
    "\n",
    "2) Эконометрика + финансы. Арчи-гарчи, оценка VaR. Легко оценить по России.\n",
    "\n",
    "[Risk Analysis of Energy in Vietnam](https://repub.eur.nl/pub/115616/)\n",
    "\n",
    "3) Микро + матан. Stochastic resource stock.\n",
    "\n",
    "Основной проблемой сырьевой базы природного газа России\n",
    "стало истощение запасов наиболее дешевого\n",
    "сеноманского газа в Западной Сибири. В связи\n",
    "с этим в ближайшие годы ожидается изменение\n",
    "структуры газодобычи, ввод в эксплуатацию новых нефтегазовых комплексов и новых регионов, себестоимость добычи газа в которых будет\n",
    "значительно выше. Увеличится доля «жирного»\n",
    "газа, использование которого в энергетических\n",
    "целях нецелесообразно. Для его утилизации необходимо строительство инфраструктуры, позволяющей использовать содержащиеся в нем\n",
    "полезные компоненты, и газоперерабатывающих и газохимических комплексов, продукция\n",
    "которых может быть востребована на отечественном и мировом рынках.\n",
    "\n",
    "\n",
    "В европейской части\n",
    "России крупным производственным районом\n",
    "является Печорский угольный бассейн.\n",
    "Из-за\n",
    "аварии на шахте «Северная» в 2016 г. добыча угля упала почти на 20%, до 7,3 млн т.\n"
   ]
  },
  {
   "cell_type": "markdown",
   "metadata": {},
   "source": [
    "### Stochastic Fuel Prices\n",
    "\n",
    "Working with stochastic trends and stochastic seasonality on fuel price data. Possibly making a package for working with stochastic ts\n",
    "\n",
    "- [Mean Reversion Versus Random Walk in Oil and Natural Gas Prices](https://www.semanticscholar.org/paper/Mean-Reversion-Versus-Random-Walk-in-Oil-and-Gas-Geman/dd81d069bf28c8edb8002ccf5927dab8f29f96cd)\n",
    "- [ТЕСТИРОВАНИЕ СТАЦИОНАРНОСТИ ВРЕМЕННЫХ РЯДОВ ПРИ НАЛИЧИИСДВИГОВ: МОДИФИКАЦИЯ ТЕСТА БУЗЕТТИ-ХАРВИ С ПРИЛОЖЕНИЕМ К ИНДЕКСАМ ЦЕН ПРОИЗВОДИТЕЛЕЙ ПРОМЫШЛЕННЫХ ТОВАРОВ РФ](https://www.iep.ru/ru/publikatcii/publication/testirovanie-statsionarnosti-vremennykh-ryadov-pri-nalichiisdvigov-modifikatsiya-testa-buzetti-kharvi-s-prilozheniem-k-indeksam-tsen-proizvoditeley-promyshlennykh-tovarov-rf.html)\n",
    "- [Electricity Market  Integration of Stochastic Renewable Resources:Efficiency and Risk Tradeoffs](https://dspace.mit.edu/bitstream/handle/1721.1/108958/986484783-MIT.pdf?sequence=1&isAllowed=y)\n",
    "- [MODELING THE DYNAMICS OF INTERNATIONAL AGRICULTURAL COMMODITY PRICES: A COMPARISON OF GARCH AND STOCHASTIC VOLATILITY MODELS](https://www.worldscientific.com/doi/abs/10.1142/S2010495218500100)\n",
    "    - GARCH vs SV vs SV-J, Bayes, MCMC and VaR\n",
    "    - [Modeling energy price dynamics: GARCH vs SV](https://www.sciencedirect.com/science/article/pii/S0140988315003539)\n",
    "- [Leverage effects and stochastic volatility in spot oil returns: A Bayesian approach with VaR and CVaR applications](https://www.sciencedirect.com/science/article/pii/S0140988318301130)\n",
    "- [An Integrated Market for Electricity and Natural Gas Systems with Stochastic Power Producers](https://www.sciencedirect.com/science/article/abs/pii/S037722171830571X)"
   ]
  },
  {
   "cell_type": "markdown",
   "metadata": {},
   "source": [
    "#### oil and gas:\n",
    "- [STOCHASTIC MODELS OF NATURAL GAS PRICES](https://www.researchgate.net/publication/261471964_STOCHASTIC_MODELS_OF_NATURAL_GAS_PRICES)\n",
    "- [THE STOCHASTIC SEASONAL BEHAVIOR OF THE NATURAL GAS PRICE](http://www.uibcongres.org/imgdb/archivo_dpo3671.pdf)\n",
    "    - It is found that models allowing for stochastic seasonality outperform standard models with deterministic seasonality. \n",
    "- [Asymmetric pass through of oil prices to gasoline prices: Evidence from anew country sample](https://www.sciencedirect.com/science/article/pii/S0301421517308637)\n",
    "- [Oil Market Volatility: Is MacroeconomicUncertainty Systematically Transmittedto Oil Prices?](https://link.springer.com/chapter/10.1007/978-3-319-98714-9_2)\n",
    "- [Jumps and stochastic volatility in crude oil futures prices using conditional moments ofintegrated volatility](https://www.sciencedirect.com/science/article/pii/S0140988314002515)\n",
    "- [Forecasting energy market indices with recurrent neural networks: Case study of crude oil price fluctuations](https://www.sciencedirect.com/science/article/abs/pii/S0360544216301608)\n",
    "- [The impact of oil price shocks on the stock market return and volatility relationship](https://www.sciencedirect.com/science/article/pii/S1042443114001279)\n",
    "- [A rolling horizon approach for stochastic mixed complementarity problems with endogenous learning: Application to natural gas markets](https://www.sciencedirect.com/science/article/pii/S0305054815002440)\n",
    "- [Stochastic Oil Price Models:Comparison and Impact](https://sci-hub.se/10.1080/00137910701503944)\n",
    "\n",
    "- [Forecasting oil price movements with crack spread futures](https://www.sciencedirect.com/science/article/pii/S0140988308001096?via%3Dihub)\n",
    "    - vecm compared to rw\n",
    "\n",
    "- [Jumps and stochastic volatility in oil prices: Time series evidence](https://www.sciencedirect.com/science/article/pii/S0140988311000193)\n",
    "\n",
    "- [Oil sensitivity and systematic risk in oil-sensitive stock indices](https://www.sciencedirect.com/science/article/pii/S0148619504000748)\n",
    "\n",
    "- [A theoretical interpretation of the oil prices impact on economic growth in contemporary Russia](https://www.sciencedirect.com/science/article/pii/S2405473915000367)\n",
    "\n",
    "- [Benders Decomposition for multi-stage stochastic mixed complementarity problems – Applied to a global natural gas market model](https://www.sciencedirect.com/science/article/abs/pii/S0377221712008727)\n",
    "\n",
    "- [Risks in global natural gas markets: Investment, hedging and trade](https://www.sciencedirect.com/science/article/pii/S0301421516300568)\n"
   ]
  },
  {
   "cell_type": "markdown",
   "metadata": {},
   "source": [
    "####  electricity and energy:\n",
    "\n",
    "\n",
    "\n",
    "- [Bid-based Stochastic Model for\n",
    "Electricity Prices:\n",
    "The Impact of Fundamental Drivers on\n",
    "Market Dynamics](https://pdfs.semanticscholar.org/c831/f8085d138855aaafab79c26cd8602d4a40bb.pdf)\n",
    "- [Stochastic Modeling and Analysis of Energy\n",
    "Commodity Spot Price Processes](https://scholarcommons.usf.edu/cgi/viewcontent.cgi?article=6485&context=etd)\n",
    "- [Forecasting Electricity Prices](https://pdfs.semanticscholar.org/7461/d5a6792cc365563db917cb43be45fa6cf134.pdf)\n",
    "    - Random-walk, Mean-reversion with jumps \n",
    "- [Stochastic factor model for electricity spot price—the case of the Nordic market](https://www.sciencedirect.com/science/article/pii/S0140988305000034)\n",
    "- [Stochastic price modeling of high volatility, mean-reverting, spike-prone commodities: The Australian wholesale spot electricity market](https://www.sciencedirect.com/science/article/pii/S0140988308000595)\n",
    "- [Frequency Based Risk Assessment of a Power Producer in Indian Electricity Market](https://www.degruyter.com/view/j/ijeeps.2017.18.issue-5/ijeeps-2016-0180/ijeeps-2016-0180.xml)\n",
    "- [Optimal bidding in a Day-Ahead energy market for Micro Grid under uncertainty in renewable energy production](https://www.sciencedirect.com/science/article/abs/pii/S0360544216302432)\n",
    "- [A Stochastic Latent Moment Model for Electricity Price Formation](https://pubsonline.informs.org/doi/abs/10.1287/opre.2018.1733)\n",
    "- [Modelling energy spot prices by volatility modulated Levy-driven Volterra processes](https://arxiv.org/pdf/1307.6332.pdf)\n",
    "    - This paper introduces the class of volatility modulated Levy-driven Volterra (VMLV) processes and their important subclass of Levy semi-stationary (LSS) processes as a new framework for modelling energy spot prices.\n",
    "    - [Stochastic Modelling of Energy SpotPrices by LSS Processes](https://link.springer.com/chapter/10.1007/978-3-319-94129-5_10)\n",
    "- [Electricity price modeling with stochastic time change](https://www.sciencedirect.com/science/article/pii/S0140988317300117)\n",
    "- [Example: A primer on the pricing of electric energy options inBrazil via mean-reverting stochastic processes](https://research.birmingham.ac.uk/portal/files/61293768/Barreto_de_Oliveira_Mandal_Power_A_primer_on_the_pricing_Energy_Reports_2019.pdf)\n",
    "\n",
    "[Фондовик](http://www.fondovik.com/bazovie-znaniya/stati-finansovie-instrumenti/fyuchersnie-spredi/spark-spred/): Но так как фьючерсы на электричество были введены относительно недавно (в частности NYMEX торгует ими с 1996 года), наблюдается недостаток ликвидности, что не позволяет спекулянтам с небольшим капиталом стать активными участниками этого рынка. Что касается электрических бирж, то и они не являются достаточно открытыми для широкого круга инвесторов. Тем не менее фьючерсы на электричество имеют большие перспективы, которые обусловлены активной динамикой развития электрического рынка.  \n",
    "\n",
    "- [Mathematical modelling of electricity market with renewable energy sources](https://www.sciencedirect.com/science/article/pii/S0960148106000954)\n",
    "\n",
    "-   [Energy bidding strategies for restructured electricity market](https://www.sciencedirect.com/science/article/pii/S0142061514005444)\n",
    "\n",
    "\n",
    "- [Fine structure of the price–demand relationship in the electricity market: Multi-scale correlation analysis](https://www.sciencedirect.com/science/article/pii/S0140988315002200)\n",
    "\n",
    "- [Pricing and Risk Management in Competitive ElectricityMarkets](http://citeseerx.ist.psu.edu/viewdoc/download?doi=10.1.1.515.4685&rep=rep1&type=pdf)\n",
    "\n",
    "#### OSC\n",
    "\n",
    "- [A Unified Pricing of Variable Annuity Guarantees under the Optimal Stochastic Control Framework ](https://www.mdpi.com/2227-9091/4/3/22)"
   ]
  },
  {
   "cell_type": "markdown",
   "metadata": {},
   "source": [
    "### Estimating Industry Risk "
   ]
  },
  {
   "cell_type": "markdown",
   "metadata": {},
   "source": [
    "- estimating industry risk for different regions for different industries\n",
    "- across regions and industries\n",
    "- visualisation\n",
    "\n",
    "- [STOCHASTIC ANALYSIS OF A EUROPEAN MARKET USING R](http://www.aui.ma/sse-capstone-repository/pdf/spring-2019/STOCHASTIC%20ANALYSIS%20OF%20A%20EUROPEAN%20MARKET%20USING%20R.pdf)\n",
    "    - CAC 40index is a fair indicator of French economy \n",
    "- [Optimal investment-reinsurance policy with regime switching and value-at-risk constraint](https://www.aimsciences.org/article/doi/10.3934/jimo.2019050)\n",
    "- [РЕАЛЬНЫЕ ОПЦИОНЫ КАК ИНСТРУМЕНТ ОЦЕНКИ РИСКОВ ИНВЕСТИЦИОННЫХ ПРОЕКТОВ НЕФТЕГАЗОДОБЫВАЮЩИХ ПРЕДПРИЯТИЙ](https://cyberleninka.ru/article/v/realnye-optsiony-kak-instrument-otsenki-riskov-investitsionnyh-proektov-neftegazodobyvayuschih-predpriyatiy)\n",
    "- [Risk sharing by households within and across regions and industries](https://www.sciencedirect.com/science/article/abs/pii/S0304393200000076)\n",
    "- [Estimating market risk with neural networks](https://www.degruyter.com/view/j/stnd.2006.24.issue-2/stnd.2006.24.2.233/stnd.2006.24.2.233.xml)"
   ]
  },
  {
   "cell_type": "markdown",
   "metadata": {},
   "source": [
    "#### ARCH:\n",
    "- [Risk and Volatility: Econometric Models and Financial Practice](https://www.aeaweb.org/articles?id=10.1257/0002828041464597)\n",
    "- [Построение COGARCH](https://publications.hse.ru/mirror/pubs/share/folder/phhxhykug0/direct/167843999)\n",
    "- [Risk transmission between natural gas market and stock markets:portfolio and hedging strategy analysis](https://www.sciencedirect.com/science/article/abs/pii/S1544612318302800)\n",
    "    - [Bayesian Analysis of FIAPARCH Model: AnApplication to S ̃ao Paulo Stock Market](https://core.ac.uk/download/pdf/15564550.pdf)\n",
    "    - [VALUE-AT-RISK (VAR) ANALYSIS AND LONG MEMORY: EVIDENCE FROM FIAPARCH IN ISTANBUL  STOCK EXCHANGE (ISE)](https://dergipark.org.tr/download/article-file/30335)\n",
    "        - In   this   section,   after   the   conditional   heteroscedasticity   models   of   GARCH, IGARCH, GJR-GARCH, APARCH, FIGARCH and FI-APARCH are discussed  then  I  present  VaR  method  and  Kupiec  LR  test  used  for  measuring  the accuracy of VaR forecasts. \n",
    "- [The fiction of full BEKK: Pricing fossil fuels and carbon emissions](https://www.sciencedirect.com/science/article/pii/S1544612317305482)\n",
    "    - [Do We Really Need Both BEKK and DCC](http://www.kier.kyoto-u.ac.jp/DP/DP738.pdf)\n",
    "    - [Comparison of BEKK GARCH and DCC GARCH Models: An Empirical Study](https://link.springer.com/chapter/10.1007%2F978-3-642-17313-4_10)"
   ]
  },
  {
   "cell_type": "markdown",
   "metadata": {},
   "source": [
    "#### VaR estimation\n",
    "\n",
    "- [Stochastic Unit Commitment in Isolated Systems With Renewable Penetration Under CVaR Assessment](https://ieeexplore.ieee.org/abstract/document/7226864)\n",
    "\n",
    "- [Value at risk (VaR)](https://en.wikipedia.org/wiki/Value_at_risk) is a measure of the risk of loss for investments. It estimates how much a set of investments might lose (with a given probability), given normal market conditions, in a set time period such as a day. VaR is typically used by firms and regulators in the financial industry to gauge the amount of assets needed to cover possible losses.\n",
    "    - [slides: Var vs CVaR](https://www.ise.ufl.edu/uryasev/files/2011/11/VaR_vs_CVaR_CARISMA_conference_2010.pdf)\n",
    "    - [Conditional Value-at-Risk (CVaR):Algorithms and Applications](https://www-iam.mathematik.hu-berlin.de/~romisch/SP01/Uryasev.pdf)\n",
    "    - [Conditional Value-at-Risk:  Theory and Applications](https://www.maths.ed.ac.uk/~prichtar/docs/Kisiala_Dissertation.pdf)\n",
    "\n",
    "\n",
    "- [Value-at-Risk estimation of energy commodities: A long-memory GARCH–EVT approach](https://www.sciencedirect.com/science/article/pii/S0140988315001851) \n",
    "    - We adopt three long-memory - models including, FIGARCH, HYGARCH\n",
    "and FIAPARCH to forecast energy commodity volatility by capturing some volatility\n",
    "stylized fact such as long-range memory, heteroscedasticity, asymmetry and fat-tails.\n",
    "    - [Bayesian Analysis of FIAPARCH Model: An\n",
    "Application to S˜ao Paulo Stock Market](https://core.ac.uk/download/pdf/15564550.pdf)\n",
    "- [Risk Analysis of Energy in Vietnam](https://repub.eur.nl/pub/115616/)\n",
    "    - This section estimates the levels of market risk for the ten major industries in Vietnam, namely Banking, Education, Energy, Food, Oil and Gas, Pharmaceutical, Real Estate, Securities, Services, and Telecommunications.\n",
    "- [Risk transmission mechanism between energy markets: A VAR for VaR approach](https://www.sciencedirect.com/science/article/pii/S0140988318303578)\n",
    "    - Data on daily return gas index; R\n",
    "    - The energy data for this study are extracted from Bloomberg and the US Energy Information Administration (EIA) website. It consists of the daily closing prices of two primary energy market indices in the United States: the WTI Crude Oil Index (US Oil) and the Henry Hub Natural Gas Index (US NG).4\n",
    "    - Value at risk and risk spillover\n",
    "- [Electricity market short-term risk management via risk-adjusted probability measures](https://www.iit.comillas.edu/publicacion/mostrar_publicacion_revista.php.en?id=1157)\n",
    "- [A multi-stage stochastic optimization model for energy systems planning and risk management](https://www.sciencedirect.com/science/article/pii/S0378778815303340)\n",
    "- CFaR - alternative to CVaR:\n",
    "    - [Exposure‐Based Cash‐Flow‐at‐Risk: An Alternative to VaR for Industrial Companies](https://onlinelibrary.wiley.com/doi/abs/10.1111/j.1745-6622.2005.00046.x)\n",
    "\n",
    "renewable:\n",
    "\n",
    "- [Risk-optimized pooling of intermittent renewable energy sources](https://www.sciencedirect.com/science/article/pii/S0378426617300754)\n",
    "    - we describe the two-stage stochastic optimization model used to calculate risk optimized VPP portfolios \n",
    "    -  We use the Conditional Value-at-Risk (CVaR) to model the\n",
    "risk preferences of the aggregator.\n",
    "    - DATA SOURCES NAMES!\n",
    "- [The investor-specific price of renewable energy project risk – A choice experiment with incumbent utilities and institutional investors)](https://www.sciencedirect.com/science/article/pii/S1364032117305117)\n",
    "\n",
    "Finance on option pricing: \n",
    "- [PRICING VIA UTILITY MAXIMIZATION AND ENTROPY](https://onlinelibrary.wiley.com/doi/abs/10.1111/1467-9965.00093)\n",
    "- The Asymptotic Elasticity of Utility Functions and Optimal Investment in Incomplete Markets\n",
    "    - Система рынков называется неполной, если инструменты страхования отсутствуют либо их число недостаточно для охвата всех факторов неопределенности. Предположение о неполноте финансовых рынков в наибольшей мере отвечает реальному уровню развития рынка государственных обязательств многих стран. Поэтому случай неполных рынков представляет наибольший интерес как с теоретической, так и практической точки зрения. \n",
    "    \n",
    "#### stock market\n",
    "\n",
    "- [The impact of tail risk on stock market returns: The role of market sentiment](https://www.sciencedirect.com/science/article/pii/S1059056017307268)\n",
    "- [Investors’ Uncertainty and Stock Market Risk](https://www.tandfonline.com/doi/abs/10.1080/15427560.2018.1506787)\n",
    "- [Stochastic volatility, jumps and leverage in energy and stockmarkets: evidence from high frequency data](https://www.bc.edu/content/dam/bc1/schools/mcas/economics/pdf/working-papers/wp952.pdf)\n",
    "- [The credit rating process and estimation of transition probabilities: A Bayesian approach](https://www.sciencedirect.com/science/article/abs/pii/S0927539808000844)"
   ]
  },
  {
   "cell_type": "markdown",
   "metadata": {},
   "source": [
    "- [для введения](https://cyberleninka.ru/article/v/kontseptsiya-otsenki-riskov-razvitiya-toplivno-energeticheskogo-kompleksa-rossii)\n",
    "- [еще для введения](http://controlling.ru/files/122.pdf#page=120)"
   ]
  },
  {
   "cell_type": "markdown",
   "metadata": {},
   "source": [
    "### Finance"
   ]
  },
  {
   "cell_type": "markdown",
   "metadata": {},
   "source": [
    "- [STOCHASTIC SPREAD PAIRS TRADING IN THE INDIAN COMMODITY MARKET](https://arxiv.org/pdf/1907.08397.pdf)\n",
    "\n",
    "- [Multi-curves Framework with Stochastic Spread:A Coherent Approach to STIR Futures and Their Options](https://developers.opengamma.com/quantitative-research/Multi-Curves-Stochastic-Spread-STIR-Futures-Options-OpenGamma.pdf)\n",
    "\n",
    "- [Pairs trading: The performance of a stochastic spread model with regime switching-evidence from the S&P 500](https://www.sciencedirect.com/science/article/pii/S1059056015001860)"
   ]
  },
  {
   "cell_type": "markdown",
   "metadata": {},
   "source": [
    "### Resource Management"
   ]
  },
  {
   "cell_type": "markdown",
   "metadata": {},
   "source": [
    "- [Sustainable growth, exhaustible resource and stochastic discovery process](https://www.researchgate.net/publication/228426172_Sustainable_growth_exhaustible_resource_and_stochastic_discovery_process)\n",
    "- [Resource scarcity, technological progress, and stochastic growth](https://www.sciencedirect.com/science/article/pii/S0264999318310757)\n",
    "- [Bounded-Velocity Stochastic Control for Dynamic Resource Allocation](https://arxiv.org/pdf/1801.01221.pdf)\n",
    "\n",
    "data\n",
    "\n",
    "- [Расход электроэнергии по регионам](https://fedstat.ru/indicator/33968)\n",
    "- [Доля энергетических ресурсов, производимых с использованием возобновляемых источников энергии](https://fedstat.ru/indicator/42976) + [data](https://fedstat.ru/indicator/50178)"
   ]
  },
  {
   "cell_type": "markdown",
   "metadata": {},
   "source": [
    "Indexes:\n",
    "\n",
    "- [RENEWABLE ENERGY PROSPECTS FOR THE RUSSIAN FEDERATION](https://www.researchgate.net/profile/Dolf_Gielen/publication/315817490_REMAP_2030_RENEWABLE_ENERGY_PROSPECTS_FOR_THE_RUSSIAN_FEDERATION/links/58e83c24a6fdccb4a830344c/REMAP-2030-RENEWABLE-ENERGY-PROSPECTS-FOR-THE-RUSSIAN-FEDERATION.pdf)\n",
    "- [Energy Efficiency Indicators Statistics: Country Practices Database](https://www.iea.org/eeindicatorsmanual/)\n",
    "- [Harvard map](https://worldmap.harvard.edu/maps/6718)\n",
    "- [Russian Domestic](https://www.spglobal.com/platts/en/our-methodology/methodology-specifications/oil/russian-domestic)\n",
    "- [Динамика потребленияэлектроэнергии как индикатор экономической активности](http://ac.gov.ru/files/publication/a/7945.pdf)\n",
    "- [ПРОГНОЗИРОВАНИЕ  ДОБЫЧИ  НЕФТИ  И  ГАЗОВОГО  КОНДЕНСАТА  В  ВЫЧИСЛИМОЙ  МОДЕЛИ  ДЕНЕЖНОГО  ОБРА ЩЕНИЯ  РОССИЙСКОЙ  ЭКОНОМИКИ*](http://www.cemi.rssi.ru/publication/e-publishing/afanasiev/AfanasievAA_EMM_2017.pdf)\n",
    "\n",
    "Data\n",
    "\n",
    "- [цду тэк](http://www.cdu.ru/catalog/statistic/)\n",
    "- https://www.iea.org/statistics/resources/manuals/\n",
    "- https://www.iea.org/statistics/resources/questionnaires/\n",
    "- https://www.iea.org/statistics/resources/documentation/\n",
    "\n"
   ]
  },
  {
   "cell_type": "markdown",
   "metadata": {},
   "source": [
    "#### Carbon Pricing \n",
    "\n",
    "(тарификация выбросов углерода, регулирование выбросов углекислого газа)\n",
    "\n",
    "- [Risk Spillovers across the Energy and Carbon Markets and Hedging Strategies\n",
    "for Carbon Risk](https://www.sciencedirect.com/science/article/pii/S0140988315002959)\n",
    "- [Optimal Stochastic Control and Carbon Price Formation](https://epubs.siam.org/doi/abs/10.1137/080736910)\n",
    "    - sthochastics + empirics\n",
    "- [PRICING AND HEDGING IN CARBON EMISSIONS MARKETS](https://www.worldscientific.com/doi/abs/10.1142/S0219024909005531)\n",
    "    - stochastic price process for the EUA1 contract\n",
    "    - Numerical Study:  We will pick a random path of EUA1 price process based on the dynamics in (2.1), after which we can calculate the fair price process for the EUA0 contract given the evolution of EUA1 prices by numerically solving the boundary value problem in Theorem 4.3.\n",
    "    - It implies that calculation of the carbon spot price can also be calculated in a Monte Carlo routine, which is technically simpler and less prone to issues of numerical instability of grid solutions.\n",
    "- [On the Stochastic Properties of Carbon Futures Prices](https://halshs.archives-ouvertes.fr/halshs-00720166v2/document)\n",
    "    - carbon futures price should be modeled as an appropriately sampled, centered Lévy or Poisson process.\n",
    "    - The theory behind tradable permits markets certainly found its roots in the writing of environmental economists (Dales (1968), Montgomery (1972)). Dynamic properties were then progressively established in the very same literature (Cronshaw and Kruse (1996), Ellerman (2005), Kling and Rubin (1997), Leiby and Rubin (2001), Maeda (2004), Rubin (1996), Schennach (2000), Stevens and Rose (2002)).\n",
    "    - Recently, a parallel mathematical literature has developed to establish the properties of tradable permits programs, in the wider context of the European Union Emissions Trading Scheme (EU ETS) and the price formation of European Union Allowances (EUAs). These papers are typically interested in recovering the stochastic properties of allowance prices, either to model the dynamic price equilibrium (Carmona et al. (2009, 2010)), or to address the question of derivatives valuation in emissions markets (Chesney and Taschini (2012), C¸ etin and Verschuere (2009), Borovkov et al. (2011), Carmona and Hinz (2011), Hinz and Novikov (2010)).\n",
    "    -  We show that, in the\n",
    "context of a Value-at-Risk (VaR) analysis which is common practice for large firms nowadays, the\n",
    "risk is not well estimated by using the processes suggested in the literature so far, and efforts should\n",
    "be made to accommodate risk exposure according to more plausible processes. The absence of a\n",
    "continuous martingale suggests that models such as the Barndorff-Nielsen and Shephard (2001)\n",
    "or the CGMY (2002) pure-jump models are likely candidates.27 Other less well-known potential\n",
    "candidates are listed in the contribution by Jing et al. (2012).\n",
    "- [The fiction of full BEKK: Pricing fossil fuels and carbon emissions. ](https://papers.ssrn.com/sol3/papers.cfm?abstract_id=3135899)\n",
    "\n",
    "\n",
    "##### Rus:\n",
    "\n",
    "По мнению отраслевиков, система штрафов, предполагаемяа новым законопроектом, будет являться тормозящим фактором в развитии углеводородного бизнеса в стране.\n",
    "\n",
    "[Проект НПА разработан в целях снижения уровня загрязнения атмосферного воздуха и улучшение экологической обстановки в России, смягчения антропогенного воздействия на глобальную климатическую систему в условиях перехода мировой экономики и энергетики на путь развития с низким уровнем выбросов парниковых газов, а также стимулирования поэтапного перехода на низкоуглеродные технологии, виды топлива, источники энергии.](http://www.nso.ru/page/35358)\n",
    "\n",
    "Источник: https://vnnews.ru/economic/73729-eshche-odna-progressivnaya-initsiativa-minekonomrazvitiya-ili-kak-parnikovye-gazy-udaryat-po-ekonomike-strany.html\n",
    "\n",
    "- [О государственном регулировании выбросов парниковых газов](http://council.gov.ru/activity/activities/roundtables/103750/)\n",
    "- [О внесении изменений части первую и вторую Налогового кодекса Российской Федерации](https://regulation.gov.ru/projects#npa=83016)\n",
    "    - [Экологический налог (минфина))](https://tass.ru/ekonomika/5453734)\n",
    "- [PUBLIC-PRIVATE SECTOR DIALOGUE ON CARBON PRICING IN RUSSIA](https://www.carbonpricingleadership.org/calendar/2016/12/8/public-private-dialogue-on-carbon-pricing-in-russia)\n",
    "- [О государственном регулировании выбросов парниковых газов и о внесении изменений в отдельные законодательные акты Российской Федерации](https://regulation.gov.ru/projects/List/AdvancedSearch#search=регулировании%20выбросов%20парниковых%20газов&npa=86521)\n",
    "    - [comment: Поиск оптимального пути к низкоуглеродной экономике](http://www.ng.ru/energy/2018-12-10/15_7459_poisk.html)\n",
    "    - [gooood comment from industries](http://www.ng.ru/energy/2019-05-13/9_7571_en1.html): Почему, продолжает свой вопрос Порфирьев, Минэкономразвития не представляет расчетов, которые бы доказывали, что налоговый механизм является более предпочтительным, чем, скажем, механизм торговли квотами. Должны быть стимулирующие финансовые, в т.ч. налоговые, меры для бизнеса, позволяющие снизить размер платежей пропорционально экологической активности. \n",
    "    - [very angry comment (+ о коррупции, подъем цен на энергоносители в результате неграмотной климатической политики может стать запалом..)](https://oilcapital.ru/article/general/27-06-2019/kadavr-peteushnika-ili-novaya-shema-poborov-dlya-rossiyskogo-tek)\n",
    "    - [another angry comment](https://regnum.ru/news/economy/2539266.html)\n",
    "- [Можно ли сократить выбросы СО2 без ущерба для экономики](https://rg.ru/2016/12/27/kak-sokratit-vybrosy-uglekislogo-gaza-bez-ushcherba-dlia-ekonomiki.html)\n",
    "    - [Изменения и тенденции в регулировании ТЭК России и мира](http://ac.gov.ru/files/publication/a/20734.pdf)\n",
    "    - Сельское хозяйство оказывает сильное воздействие на все компоненты окружающей среды, включая почву. Оно является крупным источник выбросов парниковых газов. «Климатически нейтральное» агропроизводство — это набор технологий с максимально возможной окупаемостью агрохимикатов и прибавкой урожая культур.\n",
    "-  [ПРОМЫШЛЕННАЯ ТРАНСФОРМАЦИЯ ПРИ УХУДШЕНИИ\n",
    "УСЛОВИЙ ТОРГОВЛИ](https://www.iep.ru/files/RePEc/gai/ruserr/571Idrisov.pdf)    \n",
    "    \n",
    "Social Costs and externalities:\n",
    "\n",
    "- [The Social Cost of Stochastic and Irreversible Climate Change](https://www.nber.org/papers/w18704)\n",
    "    - numerical examples - how the optimal carbon tax is affected by different preference parameters combined with various tipping point events\n",
    "    - The parameters of the deterministic climate system in DSICE are the same as in the original DICE2007 model and described in Cai, Judd and Lontzek (2012) in more detail\n",
    "    \n",
    "- [Stochastic Control of Enivronmental Externalities](https://www.nber.org/chapters/c10398.pdf) \n"
   ]
  },
  {
   "cell_type": "markdown",
   "metadata": {},
   "source": [
    "### Human Capital \n",
    "\n",
    "- [A stochastic model of mortality, fertility, and human capital investment](https://www.sciencedirect.com/science/article/pii/S0304387802000895?via%3Dihub)\n",
    "    - As a result, this setup establishes the link from mortality to fertility and to human capital investment, and hence, it is enough to show the positive effect of mortality decline on economic growth. The higher human capital investment and the lower population growth will enhance economic growth. \n",
    "- [International Trade, Immigration and Human Capital: A Bayesian Efficiency Analysis of the 50 U.S. States](https://pdfs.semanticscholar.org/dbdb/13c38777f91875ab9b8f9576312d2f8d5ee9.pdf)\n",
    "- [Exports, immigration and human capital in US states (Bayesian Approach))](https://www.tandfonline.com/doi/abs/10.1080/00343404.2017.1361020?journalCode=cres20)\n",
    "    - Using a Bayesian approach we estimate a stochastic frontier model to measure the productivity effects of state-level exports and immigration to each of the 50 US states\n",
    "\n",
    "stochastic HC accumulation\n",
    "\n",
    "- [Deterministic and stochastic dynamic firm model with wealth and human capital accumulation. Numerical simulations ](http://www.wseas.us/e-library/conferences/2011/Florence/AIASABEBI/AIASABEBI-46.pdf)\n",
    "- [Labor Market Frictions, Human Capital Accumulation,and Consumption Inequality](https://hceconomics.uchicago.edu/sites/default/files/file_uploads/HCEO_RED_draft_1_jl.pdf)\n",
    "- [Stochastic accumulation of human capital and welfare in the Uzawa–Lucas model: an analytical characterization](https://link.springer.com/article/10.1007/s00712-018-0604-6)"
   ]
  },
  {
   "cell_type": "markdown",
   "metadata": {},
   "source": [
    "1. We employ Augmented Dickey-Fuller test (Dickey and Fuller, 1979, 1981) to our export series. We\n",
    "find that all our export data that categorized into countries or commodities have a unit root. Then, for\n",
    "both ARIMA and ARIMAX model, we fixed the order of integration (d) at one.\n",
    "2. For each experiment, we employ Schwarz Information Criteria (SIC) to select the optimal lags for\n",
    "autoregressive and moving average polynomials (p, q). In our experiment, we limit maximum order\n",
    "at six months. For explanatory variable, composite leading indicator (CLI), we tried different lags\n",
    "3between two to eight months and found that lag of three provide the superior result. Therefore, we\n",
    "use CLI with lag of three in our ARIMAX(p, 1, q) model.\n",
    "3. After obtaining the optimal lags, we compute three-period-ahead forecasts.\n",
    "4. We use rolling window method and repeat steps one to three.\n",
    "5. We obtain a set of forecasting data from both models. We compare accuracy of both models by using\n",
    "Mean Square Forecast Error (MSFE) and Diabold-Mariano test."
   ]
  },
  {
   "cell_type": "markdown",
   "metadata": {},
   "source": [
    "\n",
    "### books on stochastic analysis\n"
   ]
  },
  {
   "cell_type": "markdown",
   "metadata": {},
   "source": [
    "- [MIT SOC](https://ocw.mit.edu/courses/sloan-school-of-management/15-070j-advanced-stochastic-processes-fall-2013/lecture-notes/)\n",
    "- [Introduction to Dynamic ProgrammingApplied to Economics](https://www.fep.up.pt/docentes/joao/material/aea/notas_pbrito_2008.pdf)\n",
    "- [Modelling stochastic correlation!!!!!!](https://mathematicsinindustry.springeropen.com/track/pdf/10.1186/s13362-016-0018-4)\n",
    "- [Bayesian Analysis\n",
    "of Stochastic\n",
    "Process Models (with R)]()\n",
    "- [Bayesian Inference for Stochastic Processes](https://www.crcpress.com/Bayesian-Inference-for-Stochastic-Processes/Broemeling/p/book/9781138196131)\n",
    "- [Slides: Bayesian Analysis of Stochastic Process Model](http://www.est.uc3m.es/BayesUC3M/Courses/UC3M-1.pdf), [all slides](https://stochastic_numerics.kaust.edu.sa/Documents/pdf%20seminars/FabrizioRuggeri_KAUST_March2013.pdf)\n",
    "- [Lecture Notes On Solution Methods for Microeconomic Dynamic Stochastic Optimization Problems](http://citeseerx.ist.psu.edu/viewdoc/download?doi=10.1.1.304.7347&rep=rep1&type=pdf)\n",
    "- [Solution Methods for Microeconomic Dynamic Stochastic Optimization Problems](http://www.econ2.jhu.edu/people/ccarroll/SolvingMicroDSOPs.pdf)\n",
    "- [STOCHASTIC PROCESSES, ITˆO CALCULUS, ANDAPPLICATIONS IN ECONOMICS](http://home.uchicago.edu/~hickmanbr/uploads/chapter5_3.pdf)\n",
    "- [Stochastic Estimation of Dynamical Variables](https://arxiv.org/pdf/1812.05120.pdf)\n",
    "- [Bayesian modeling of dynamic extremevalues: extension of generalized extreme valuedistributions with latent stochastic processes](https://www.tandfonline.com/doi/abs/10.1080/02664763.2016.1201796)\n",
    "\n",
    "intro \n",
    "- [Importance of stochastic properties of economic variables for macroeconomic theories](https://www.sciencedirect.com/science/article/pii/S1877042813050659)\n",
    "- [THE RELEVANCE OF STOCHASTIC VARIABLES IN ECONOMICS](https://is.muni.cz/th/fjgv4/FODOR__BP.pdf)\n"
   ]
  },
  {
   "cell_type": "markdown",
   "metadata": {},
   "source": [
    "\n",
    "#### stochastic trend and stochastic seasonality\n",
    "\n",
    "- [presa: Econometrics of Seasonality](https://homepage.univie.ac.at/robert.kunst/season12.pdf)\n",
    "- [Stochastic trends and seasonality in economic time series: new evidence from Bayesian stochastic model specification search](https://www.semanticscholar.org/paper/Stochastic-trends-and-seasonality-in-economic-time-Proietti-Grassi/e8aa1199b659e2deabab023dad6eea519281128f)\n",
    "    - DATA: Index of industrial production. Index of Retail sales. Our application deals with data set consisting of 530 monthly time series for 10 Euro Area countries, the UK, and the US, referring to the index of industrial production and retail turnover. \n",
    "- [COMPLEX UNIT ROOTS AND BUSINESS CYCLES: ARE THEY REAL?](https://www.ssc.wisc.edu/~bhansen/718/Bierens2001.pdf)\n",
    "    - As is well known, AR processes with roots on the complex unit circle are nonstationary, and are actually more interesting than AR processes with a real valued unit root, because these processes display a persistent cyclical behavior. Thus, if there exist persistent business cycles, it seems that the data-generating process involved is more compatible with an AR~MA! process with complexconjugate unit roots than with a real unit root and0or roots outside the complex unit circle.\n",
    "    - This test will be applied to US unemployment time series data1 to see whether this series has complex unit roots in the business cycle frequencies\n",
    "- [Wild Bootstrap Seasonal Unit Root Tests for Time Series with\n",
    "Periodic Non-Stationary Volatility](https://www.iep.ru/files/RePEc/gai/wpaper/wpaper-2016-269.pdf)\n",
    "- [Deterministic versus stochastic seasonal fractional integration and structural breaks](https://link.springer.com/article/10.1007/s11222-011-9227-2)\n"
   ]
  },
  {
   "cell_type": "code",
   "execution_count": null,
   "metadata": {},
   "outputs": [],
   "source": []
  }
 ],
 "metadata": {
  "hide_input": false,
  "kernelspec": {
   "display_name": "Python 3",
   "language": "python",
   "name": "python3"
  },
  "language_info": {
   "codemirror_mode": {
    "name": "ipython",
    "version": 3
   },
   "file_extension": ".py",
   "mimetype": "text/x-python",
   "name": "python",
   "nbconvert_exporter": "python",
   "pygments_lexer": "ipython3",
   "version": "3.7.3"
  },
  "latex_envs": {
   "LaTeX_envs_menu_present": true,
   "autoclose": true,
   "autocomplete": true,
   "bibliofile": "biblio.bib",
   "cite_by": "apalike",
   "current_citInitial": 1,
   "eqLabelWithNumbers": true,
   "eqNumInitial": 1,
   "hotkeys": {
    "equation": "Ctrl-E",
    "itemize": "Ctrl-I"
   },
   "labels_anchors": false,
   "latex_user_defs": false,
   "report_style_numbering": false,
   "user_envs_cfg": false
  },
  "toc": {
   "base_numbering": 1,
   "nav_menu": {},
   "number_sections": true,
   "sideBar": true,
   "skip_h1_title": false,
   "title_cell": "Table of Contents",
   "title_sidebar": "Contents",
   "toc_cell": false,
   "toc_position": {},
   "toc_section_display": true,
   "toc_window_display": false
  },
  "varInspector": {
   "cols": {
    "lenName": 16,
    "lenType": 16,
    "lenVar": 40
   },
   "kernels_config": {
    "python": {
     "delete_cmd_postfix": "",
     "delete_cmd_prefix": "del ",
     "library": "var_list.py",
     "varRefreshCmd": "print(var_dic_list())"
    },
    "r": {
     "delete_cmd_postfix": ") ",
     "delete_cmd_prefix": "rm(",
     "library": "var_list.r",
     "varRefreshCmd": "cat(var_dic_list()) "
    }
   },
   "types_to_exclude": [
    "module",
    "function",
    "builtin_function_or_method",
    "instance",
    "_Feature"
   ],
   "window_display": false
  }
 },
 "nbformat": 4,
 "nbformat_minor": 2
}
