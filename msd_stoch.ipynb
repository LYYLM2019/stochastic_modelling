{
 "cells": [
  {
   "cell_type": "markdown",
   "metadata": {},
   "source": [
    "### books on stochastic analysis\n"
   ]
  },
  {
   "cell_type": "markdown",
   "metadata": {},
   "source": [
    "- [Bayesian Analysis\n",
    "of Stochastic\n",
    "Process Models (with R)]()"
   ]
  },
  {
   "cell_type": "markdown",
   "metadata": {},
   "source": [
    "### Estimating Industry Risk "
   ]
  },
  {
   "cell_type": "markdown",
   "metadata": {},
   "source": [
    "- estimating industry risk for different regions for different industries\n",
    "- across regions and industries\n",
    "- visualisation"
   ]
  },
  {
   "cell_type": "markdown",
   "metadata": {},
   "source": [
    "#### VaR estimation\n",
    "\n",
    "https://en.wikipedia.org/wiki/Value_at_risk\n",
    "\n",
    "Value at risk (VaR) is a measure of the risk of loss for investments. It estimates how much a set of investments might lose (with a given probability), given normal market conditions, in a set time period such as a day. VaR is typically used by firms and regulators in the financial industry to gauge the amount of assets needed to cover possible losses.\n",
    "\n",
    "- [Value-at-Risk estimation of energy commodities: A long-memory GARCH–EVT approach](https://www.sciencedirect.com/science/article/pii/S0140988315001851) \n",
    "    - We adopt three long-memory - models including, FIGARCH, HYGARCH\n",
    "and FIAPARCH to forecast energy commodity volatility by capturing some volatility\n",
    "stylized fact such as long-range memory, heteroscedasticity, asymmetry and fat-tails.\n",
    "    - [Bayesian Analysis of FIAPARCH Model: An\n",
    "Application to S˜ao Paulo Stock Market](https://core.ac.uk/download/pdf/15564550.pdf)"
   ]
  },
  {
   "cell_type": "markdown",
   "metadata": {},
   "source": [
    "### Carbon Pricing \n",
    "\n",
    "(тарификация выбросов углерода, регулирование выбросов углекислого газа)\n",
    "\n",
    "- [Risk Spillovers across the Energy and Carbon Markets and Hedging Strategies\n",
    "for Carbon Risk]()\n",
    "- [О государственном регулировании выбросов парниковых газов](http://council.gov.ru/activity/activities/roundtables/103750/)\n",
    "- [PUBLIC-PRIVATE SECTOR DIALOGUE ON CARBON PRICING IN RUSSIA](https://www.carbonpricingleadership.org/calendar/2016/12/8/public-private-dialogue-on-carbon-pricing-in-russia)"
   ]
  },
  {
   "cell_type": "markdown",
   "metadata": {},
   "source": [
    "### Resource Management"
   ]
  },
  {
   "cell_type": "markdown",
   "metadata": {},
   "source": [
    "- [Sustainable growth, exhaustible resource and stochastic discovery process](https://www.researchgate.net/publication/228426172_Sustainable_growth_exhaustible_resource_and_stochastic_discovery_process)\n",
    "\n",
    "data\n",
    "\n",
    "- [Расход электроэнергии по регионам](https://fedstat.ru/indicator/33968)\n",
    "- [Доля энергетических ресурсов, производимых с использованием возобновляемых источников энергии](https://fedstat.ru/indicator/42976) + [data](https://fedstat.ru/indicator/50178)"
   ]
  }
 ],
 "metadata": {
  "hide_input": false,
  "kernelspec": {
   "display_name": "Python 3",
   "language": "python",
   "name": "python3"
  },
  "language_info": {
   "codemirror_mode": {
    "name": "ipython",
    "version": 3
   },
   "file_extension": ".py",
   "mimetype": "text/x-python",
   "name": "python",
   "nbconvert_exporter": "python",
   "pygments_lexer": "ipython3",
   "version": "3.6.5"
  },
  "latex_envs": {
   "LaTeX_envs_menu_present": true,
   "autoclose": true,
   "autocomplete": true,
   "bibliofile": "biblio.bib",
   "cite_by": "apalike",
   "current_citInitial": 1,
   "eqLabelWithNumbers": true,
   "eqNumInitial": 1,
   "hotkeys": {
    "equation": "Ctrl-E",
    "itemize": "Ctrl-I"
   },
   "labels_anchors": false,
   "latex_user_defs": false,
   "report_style_numbering": false,
   "user_envs_cfg": false
  },
  "toc": {
   "base_numbering": 1,
   "nav_menu": {},
   "number_sections": true,
   "sideBar": true,
   "skip_h1_title": false,
   "title_cell": "Table of Contents",
   "title_sidebar": "Contents",
   "toc_cell": false,
   "toc_position": {},
   "toc_section_display": true,
   "toc_window_display": false
  },
  "varInspector": {
   "cols": {
    "lenName": 16,
    "lenType": 16,
    "lenVar": 40
   },
   "kernels_config": {
    "python": {
     "delete_cmd_postfix": "",
     "delete_cmd_prefix": "del ",
     "library": "var_list.py",
     "varRefreshCmd": "print(var_dic_list())"
    },
    "r": {
     "delete_cmd_postfix": ") ",
     "delete_cmd_prefix": "rm(",
     "library": "var_list.r",
     "varRefreshCmd": "cat(var_dic_list()) "
    }
   },
   "types_to_exclude": [
    "module",
    "function",
    "builtin_function_or_method",
    "instance",
    "_Feature"
   ],
   "window_display": false
  }
 },
 "nbformat": 4,
 "nbformat_minor": 2
}
